{
 "cells": [
  {
   "cell_type": "code",
   "execution_count": 18,
   "metadata": {},
   "outputs": [],
   "source": [
    "import pandas as pd \n",
    "import cv2\n",
    "from PIL import Image\n",
    "import numpy as np\n",
    "import random\n",
    "\n",
    "from Knn import KNN\n",
    "from sklearn import neighbors\n",
    "\n",
    "from data_loader import data_load"
   ]
  },
  {
   "cell_type": "code",
   "execution_count": 19,
   "metadata": {},
   "outputs": [],
   "source": [
    "train_path =  \"F:/Handwritten-digit-recognition/Task Dataset/Train/Training Labels.txt\"\n",
    "test_path =  \"F:/Handwritten-digit-recognition/Task Dataset/Test/test Labels.txt\"\n",
    "\n",
    "train_set , test_set , Training_images ,testing_images ,training_label, testing_label = data_load(train_path,test_path)"
   ]
  },
  {
   "cell_type": "code",
   "execution_count": 20,
   "metadata": {},
   "outputs": [
    {
     "name": "stdout",
     "output_type": "stream",
     "text": [
      "0.88\n"
     ]
    }
   ],
   "source": [
    "correct=0\n",
    "total = 0\n",
    "for i in range(200):\n",
    "    predect = KNN(train_set,testing_images[i],k=11)\n",
    "    if predect == int(testing_label[i]):\n",
    "        correct +=1    \n",
    "    total +=1\n",
    "    # print(\"predect = \",predect ,\"Label = \", testing_label[i] , \"Correct = \",correct)\n",
    "\n",
    "\n",
    "print((correct/total))\n"
   ]
  },
  {
   "cell_type": "code",
   "execution_count": 22,
   "metadata": {},
   "outputs": [
    {
     "name": "stdout",
     "output_type": "stream",
     "text": [
      "2400\n",
      "2400\n"
     ]
    }
   ],
   "source": [
    "print(len(training_label))\n",
    "print(len(Training_images))\n",
    "print(training_label)"
   ]
  },
  {
   "cell_type": "code",
   "execution_count": null,
   "metadata": {},
   "outputs": [],
   "source": []
  }
 ],
 "metadata": {
  "kernelspec": {
   "display_name": "Python 3",
   "language": "python",
   "name": "python3"
  },
  "language_info": {
   "codemirror_mode": {
    "name": "ipython",
    "version": 3
   },
   "file_extension": ".py",
   "mimetype": "text/x-python",
   "name": "python",
   "nbconvert_exporter": "python",
   "pygments_lexer": "ipython3",
   "version": "3.7.3"
  }
 },
 "nbformat": 4,
 "nbformat_minor": 2
}
